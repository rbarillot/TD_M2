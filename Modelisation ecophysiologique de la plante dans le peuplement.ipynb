{
 "cells": [
  {
   "cell_type": "markdown",
   "metadata": {},
   "source": [
    "# Présentation du TD"
   ]
  },
  {
   "cell_type": "markdown",
   "metadata": {},
   "source": [
    "![Introduction to plant architecture](files/contexte.png)"
   ]
  },
  {
   "cell_type": "markdown",
   "metadata": {},
   "source": [
    "![From real plants to virtual 3D plants](files/Luzerne.png)"
   ]
  },
  {
   "cell_type": "markdown",
   "metadata": {},
   "source": [
    "# Description de l'Architecture des plantes"
   ]
  },
  {
   "cell_type": "markdown",
   "metadata": {},
   "source": [
    "![Architecture definition](files/architecture.jpg)"
   ]
  },
  {
   "cell_type": "markdown",
   "metadata": {},
   "source": [
    "## Présentation des plantes en séance"
   ]
  },
  {
   "cell_type": "markdown",
   "metadata": {},
   "source": [
    "* Décrivez les plantes qui sont devant vous.\n",
    "* Identifiez les entités suivantes : \"A\" pour talle/ramification, \"E\" pour gaine, \"T\" pour l'extrémité du pétiole, \"F\" : pour l'insertion du limbe et \"L\" pour les segments du limbe.\n",
    "* Identifiez des relations topologiques entre entités : \"+\" pour insertion et \">\" pour succession.\n",
    "* Observez vous des motifs qui se répètent?"
   ]
  },
  {
   "cell_type": "markdown",
   "metadata": {},
   "source": [
    "# Initiation aux modèles individu-centrés & architecturés (FSPM)"
   ]
  },
  {
   "cell_type": "markdown",
   "metadata": {},
   "source": [
    "## Chargement des librairies python"
   ]
  },
  {
   "cell_type": "code",
   "execution_count": null,
   "metadata": {},
   "outputs": [],
   "source": [
    "from __future__ import print_function\n",
    "from ipywidgets import interact, interactive, fixed, interact_manual\n",
    "import ipywidgets as widgets\n",
    "from openalea.mtg import MTG #librairie MTG\n",
    "from openalea.lpy import Lsystem, Lstring #librairie Lsystem\n",
    "from openalea.plantgl.all import Viewer #librairie visualisation graphique\n",
    "from IPython.display import display\n",
    "import os\n",
    "from pathlib import Path\n",
    "\n",
    "import library as TD_libs"
   ]
  },
  {
   "cell_type": "markdown",
   "metadata": {},
   "source": [
    "## Encodage de l'architecture: formalisme MTG"
   ]
  },
  {
   "cell_type": "markdown",
   "metadata": {},
   "source": [
    "Présentation du MTG issus de l'acquisition scanner"
   ]
  },
  {
   "cell_type": "markdown",
   "metadata": {},
   "source": [
    "### Cas d'une légumineuse : La luzerne"
   ]
  },
  {
   "cell_type": "markdown",
   "metadata": {},
   "source": [
    "Sur le MTG suivant:\n",
    "* Donnez le nombre d'axes\n",
    "* Donnez le nombre de petioles"
   ]
  },
  {
   "cell_type": "code",
   "execution_count": null,
   "metadata": {},
   "outputs": [],
   "source": [
    "g = MTG(Path('MTG/luzerne.mtg')) #Chargement du fichier MTG\n",
    "g.display()\n",
    "g.property_names()"
   ]
  },
  {
   "cell_type": "markdown",
   "metadata": {},
   "source": [
    "### Cas d'une graminée : La fétuque"
   ]
  },
  {
   "cell_type": "markdown",
   "metadata": {},
   "source": [
    "Sur le MTG suivant:\n",
    "* Donnez le nombre de talles (axe)\n",
    "* Donnez le nombre de phytomères sur l'axe 2"
   ]
  },
  {
   "cell_type": "code",
   "execution_count": null,
   "metadata": {
    "scrolled": true
   },
   "outputs": [],
   "source": [
    "g = MTG(Path('MTG\\Fet-LD-F2.mtg'))\n",
    "g.display()"
   ]
  },
  {
   "cell_type": "markdown",
   "metadata": {},
   "source": [
    "## Reconstruction numérique 3D des plantes via Lsystems"
   ]
  },
  {
   "cell_type": "markdown",
   "metadata": {},
   "source": [
    "### Rappel des principes du Lsystem"
   ]
  },
  {
   "cell_type": "markdown",
   "metadata": {},
   "source": [
    "### Exercices sur les Lsystems"
   ]
  },
  {
   "cell_type": "code",
   "execution_count": null,
   "metadata": {},
   "outputs": [],
   "source": [
    "def on_button_clicked(b):\n",
    "    os.system('mylpy')\n",
    "\n",
    "button = widgets.Button(description=\"Lpy\")\n",
    "display(button)\n",
    "button.on_click(on_button_clicked)"
   ]
  },
  {
   "cell_type": "markdown",
   "metadata": {},
   "source": [
    "**Exercice 1 : (utilisation de Lpy)**\n",
    "\n",
    "Les six premières itérations d’un L-system déterministe insensible au contexte produisent les chaînes de caractères suivantes :\n",
    "\n",
    "L<p/>\n",
    "CL<p/>\n",
    "LCL<p/>\n",
    "CLLCL<p/>\n",
    "LCLCLLCL<p/>\n",
    "CLLCLLCLCLLCL<p/>\n",
    "\n",
    "Quels sont les règles de productions et l’axiome de ce L-system ?\n"
   ]
  },
  {
   "cell_type": "markdown",
   "metadata": {},
   "source": [
    "**Exercice 2 :**\n",
    "\n",
    "Le module A représente l'apex\n",
    "\n",
    "Axiom: A\n",
    "\n",
    "1. Définir le nom du module de l'entrenoeud\n",
    "2. Ecrire la règle de production d'un entrenoeud à partir de l'apex\n",
    "3. Appliquer une règle d'interprétation pour représenter les entrenoeuds avec des cylindres. \n",
    "\n",
    "NB:\n",
    "* la règle de production/interprétation d'un module s'écrit:\n",
    "```\n",
    "module_name:\n",
    "    produce module_name1 module_name2\n",
    "```\n",
    "* La représentation des cylindres se fait à l'aide de la commande \"F\"\n"
   ]
  },
  {
   "cell_type": "markdown",
   "metadata": {},
   "source": [
    "**Exercice 3 :**\n",
    "\n",
    "1. Recopier le code suivant dans Lpy\n",
    "2. Analyser la syntaxe permettant de gérer la ramification\n",
    "\n",
    "--\n",
    "\n",
    "**Axiom**: F[-F][+F]A <p/>\n",
    "**derivation length**: 2 <p/>\n",
    "**production**:<p/>\n",
    "A:<p/>\n",
    "&emsp; produce F [-F] [+F] A\n"
   ]
  },
  {
   "cell_type": "markdown",
   "metadata": {},
   "source": [
    "### Exemple de la luzerne"
   ]
  },
  {
   "cell_type": "markdown",
   "metadata": {},
   "source": [
    "Charger le Lsystem de luzerne ci-dessous"
   ]
  },
  {
   "cell_type": "code",
   "execution_count": null,
   "metadata": {},
   "outputs": [],
   "source": [
    "lsys = Lsystem('TD_lsystem_Luzerne.lpy')"
   ]
  },
  {
   "cell_type": "markdown",
   "metadata": {},
   "source": [
    "#### Structure de la chaine Lsystem"
   ]
  },
  {
   "cell_type": "code",
   "execution_count": null,
   "metadata": {},
   "outputs": [],
   "source": [
    "print ('Structure de la Chaine Lsystem \\n\\n', lsys.axiom[:20])"
   ]
  },
  {
   "cell_type": "markdown",
   "metadata": {},
   "source": [
    "#### Règles d'interprétation de la Chaine Lsystem"
   ]
  },
  {
   "cell_type": "markdown",
   "metadata": {},
   "source": [
    "![Example of interpretation rules](files/interpretation.png) /pagebreak"
   ]
  },
  {
   "cell_type": "markdown",
   "metadata": {},
   "source": [
    "#### Reconstruction numérique 3D de la luzerne"
   ]
  },
  {
   "cell_type": "code",
   "execution_count": null,
   "metadata": {
    "scrolled": true
   },
   "outputs": [],
   "source": [
    "interact(TD_libs.run_lsystem, scaling_Lmax = (0.5, 2, 0.5), inclination_factor = (0.5, 2, 0.5), lsys=fixed(lsys));"
   ]
  },
  {
   "cell_type": "markdown",
   "metadata": {},
   "source": [
    "### Exemple de la fétuque"
   ]
  },
  {
   "cell_type": "code",
   "execution_count": null,
   "metadata": {},
   "outputs": [],
   "source": [
    "lsys = Lsystem('TD_lsystem_Fetuque.lpy')\n",
    "lstring = lsys.animate()"
   ]
  },
  {
   "cell_type": "markdown",
   "metadata": {},
   "source": [
    "## Applications: simulation du rayonnement intercepté dans une association"
   ]
  },
  {
   "cell_type": "markdown",
   "metadata": {},
   "source": [
    "### Introduction modèles de rayonnement"
   ]
  },
  {
   "cell_type": "markdown",
   "metadata": {},
   "source": [
    "![Some insights on light modelling](files/modelesRT.png) /pagebreak"
   ]
  },
  {
   "cell_type": "markdown",
   "metadata": {},
   "source": [
    "### Effet de la direction du soleil sur le rayonnement intercepté"
   ]
  },
  {
   "cell_type": "code",
   "execution_count": null,
   "metadata": {
    "scrolled": false
   },
   "outputs": [],
   "source": [
    "%matplotlib notebook\n",
    "interact(TD_libs.Light_model, lsys=fixed(lsys), lstring=fixed(lstring), hour=(5, 19, 1));"
   ]
  },
  {
   "cell_type": "markdown",
   "metadata": {},
   "source": [
    "### Partage du rayonnement intercepté dans une association"
   ]
  },
  {
   "cell_type": "code",
   "execution_count": null,
   "metadata": {
    "scrolled": false
   },
   "outputs": [],
   "source": [
    "%matplotlib notebook\n",
    "# Makes Lsystem for association\n",
    "lsys_luz = Lsystem('TD_lsystem_Luzerne.lpy')\n",
    "lsys_fet = Lsystem('TD_lsystem_Fetuque.lpy')\n",
    "lsys_luz_str = lsys_luz.animate()\n",
    "lsys_fet_str = lsys_fet.animate()\n",
    "lsys_asso_str = lsys_luz_str + lsys_fet_str\n",
    "# Visualisation of the association\n",
    "scene_asso = lsys_fet.sceneInterpretation(lsys_asso_str)\n",
    "Viewer.display(scene_asso)\n",
    "# Light absorption computation\n",
    "interact(TD_libs.Run_Asso, scene_asso=fixed(scene_asso), lsys_asso_str=fixed(lsys_asso_str), distance = (0,60,15));"
   ]
  }
 ],
 "metadata": {
  "celltoolbar": "Raw Cell Format",
  "kernelspec": {
   "display_name": "Python 2",
   "language": "python",
   "name": "python2"
  },
  "language_info": {
   "codemirror_mode": {
    "name": "ipython",
    "version": 2
   },
   "file_extension": ".py",
   "mimetype": "text/x-python",
   "name": "python",
   "nbconvert_exporter": "python",
   "pygments_lexer": "ipython2",
   "version": "2.7.15"
  }
 },
 "nbformat": 4,
 "nbformat_minor": 2
}