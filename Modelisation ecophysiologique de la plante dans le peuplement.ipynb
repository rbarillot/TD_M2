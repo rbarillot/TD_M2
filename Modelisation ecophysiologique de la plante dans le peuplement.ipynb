{
 "cells": [
  {
   "cell_type": "markdown",
   "metadata": {},
   "source": [
    "# Présentation du TD"
   ]
  },
  {
   "cell_type": "markdown",
   "metadata": {},
   "source": [
    "![Introduction to plant architecture](slides/contexte.png)"
   ]
  },
  {
   "cell_type": "markdown",
   "metadata": {},
   "source": [
    "![From real plants to virtual 3D plants](slides/Luzerne.png)"
   ]
  },
  {
   "cell_type": "markdown",
   "metadata": {},
   "source": [
    "# Description de l'Architecture des plantes"
   ]
  },
  {
   "cell_type": "markdown",
   "metadata": {},
   "source": [
    "![Architecture definition](slides/architecture.jpg)"
   ]
  },
  {
   "cell_type": "markdown",
   "metadata": {},
   "source": [
    "## Présentation des plantes en séance - Modularité de l'architecture"
   ]
  },
  {
   "cell_type": "markdown",
   "metadata": {},
   "source": [
    "* Décrivez les plantes qui sont devant vous.\n",
    "* Identifiez les entités suivantes :\n",
    "\n",
    "    | Entité| Luzerne #  | Fétuque #  |\n",
    "|:---|:---:|:---:|\n",
    "| Ramification / Talle     |  A  |  A  |\n",
    "| Insertion pétiole / Gaine|  S  |  E  |\n",
    "| Insertion foliole / Limbe|  T  |  F  |\n",
    "| Extrémité foliole / Limbe|  U  |  L  |\n",
    "\n",
    "\n",
    "* Identifiez des relations topologiques entre entités : \"+\" pour insertion et \">\" pour succession.\n",
    "* Observez vous des motifs qui se répètent?"
   ]
  },
  {
   "cell_type": "markdown",
   "metadata": {},
   "source": [
    "# Initiation aux modèles individu-centrés & architecturés (FSPM)"
   ]
  },
  {
   "cell_type": "markdown",
   "metadata": {},
   "source": [
    "## Chargement des librairies python"
   ]
  },
  {
   "cell_type": "code",
   "execution_count": null,
   "metadata": {},
   "outputs": [],
   "source": [
    "from __future__ import print_function\n",
    "import pandas as pd\n",
    "from ipywidgets import interact, interactive, fixed, interact_manual\n",
    "from openalea.mtg import MTG #librairie MTG\n",
    "from pgljupyter import LsystemWidget #librairie Lsystem\n",
    "from pathlib import Path\n",
    "\n",
    "import library as TD_libs"
   ]
  },
  {
   "cell_type": "markdown",
   "metadata": {},
   "source": [
    "## Encodage de l'architecture: formalisme MTG"
   ]
  },
  {
   "cell_type": "markdown",
   "metadata": {},
   "source": [
    "### Cas d'une légumineuse : La luzerne"
   ]
  },
  {
   "cell_type": "markdown",
   "metadata": {},
   "source": [
    "Sur le MTG suivant:\n",
    "* Donnez le nombre d'axes\n",
    "* Donnez le nombre de petioles sur l'axe 1 et 3"
   ]
  },
  {
   "cell_type": "code",
   "execution_count": null,
   "metadata": {},
   "outputs": [],
   "source": [
    "g = MTG(Path('MTG/luzerne.mtg')) #Chargement du fichier MTG\n",
    "g.display()"
   ]
  },
  {
   "cell_type": "markdown",
   "metadata": {},
   "source": [
    "Observer les propriétés attachées à chaque élement (vertex) du MTG"
   ]
  },
  {
   "cell_type": "code",
   "execution_count": null,
   "metadata": {},
   "outputs": [],
   "source": [
    "pd.DataFrame(g.properties()).sort_index()"
   ]
  },
  {
   "cell_type": "markdown",
   "metadata": {},
   "source": [
    "### Cas d'une graminée : La fétuque"
   ]
  },
  {
   "cell_type": "markdown",
   "metadata": {},
   "source": [
    "Sur le MTG suivant:\n",
    "* Donnez le nombre de talles (axe)\n",
    "* Donnez le nombre de phytomères sur l'axe 2"
   ]
  },
  {
   "cell_type": "code",
   "execution_count": null,
   "metadata": {
    "scrolled": true
   },
   "outputs": [],
   "source": [
    "g = MTG(Path('MTG/Fet-LD-F2.mtg'))\n",
    "g.display()"
   ]
  },
  {
   "cell_type": "markdown",
   "metadata": {},
   "source": [
    "## Reconstruction numérique 3D des plantes via Lsystems"
   ]
  },
  {
   "cell_type": "markdown",
   "metadata": {},
   "source": [
    "### Rappel des principes du Lsystem"
   ]
  },
  {
   "cell_type": "markdown",
   "metadata": {},
   "source": [
    "### Exercices sur les Lsystems"
   ]
  },
  {
   "cell_type": "markdown",
   "metadata": {},
   "source": [
    "**Exercice 1 : (utilisation de Lpy)**\n",
    "\n",
    "Les six premières itérations d’un L-system déterministe insensible au contexte produisent les chaînes de caractères suivantes :\n",
    "\n",
    "L<p/>\n",
    "CL<p/>\n",
    "LCL<p/>\n",
    "CLLCL<p/>\n",
    "LCLCLLCL<p/>\n",
    "CLLCLLCLCLLCL<p/>\n",
    "\n",
    "* Renseignez les modules de ce L-system\n",
    "* Quels sont les règles de productions et l’axiome de ce L-system ?\n"
   ]
  },
  {
   "cell_type": "code",
   "execution_count": null,
   "metadata": {},
   "outputs": [],
   "source": [
    "%%lpy -a True   \n",
    "\n",
    "module ?\n",
    "module ?\n",
    "\n",
    "def StartEach(lstring):\n",
    "    print (lstring)\n",
    "\n",
    "\n",
    "axiom: ?\n",
    "\n",
    "derivation length: ?\n",
    "\n",
    "production:\n",
    "? --> ?\n"
   ]
  },
  {
   "cell_type": "markdown",
   "metadata": {},
   "source": [
    "**Exercice 2 :**\n",
    "\n",
    "Représenter la production d'entrenoeuds par un apex\n",
    "\n",
    "1. Définir le nom du module de l'apex et de l'entrenoeud\n",
    "2. Définir l'axiome comme un apex seul\n",
    "3. Ecrire la règle de production d'un entrenoeud à partir de l'apex\n",
    "4. Appliquer une règle d'interprétation pour représenter les entrenoeuds avec des cylindres et les apex avec des spheres\n",
    "5. Produire 5 entrenoeuds au niveau de l'apex\n",
    "6. Tester des régles d'orientation des organes et de dimensions d'organes.\n",
    "\n",
    "\n",
    "Tips:\n",
    "* la règle de production d'un module s'écrit:\n",
    "```\n",
    "modulename --> modulename1 modulename2 [...] modulenamei\n",
    "```\n",
    "* la règle d'interprétation d'un module s'écrit:\n",
    "```\n",
    "modulename --> regle_orientation(param) forme_geometrique1(param)\n",
    "```\n",
    "* Quelques exemples de formes géométriques:\n",
    "```\n",
    "F : cylindre généralisé. Params: 'length , topradius'.\n",
    "@O : sphère. Params: 'radius'.\n",
    "@o : cercle. Params: 'radius'.\n",
    "@b : rectangle. Params : 'length','topradius'.\n",
    "```\n",
    "* Quelques exemples de règles d'orientation:\n",
    "\n",
    "```\n",
    "+ : Turn left around Up vector. Params : 'angle' (optional, in degrees).\n",
    "- : Turn right around Up vector. Params : 'angle' (optional, in degrees).\n",
    "^ : Pitch up around Left vector. Params : 'angle' (optional, in degrees).\n",
    "& : Pitch down around Left vector. Params : 'angle' (optional, in degrees).\n",
    "/ : Roll left around Heading vector. Params : 'angle' (optional, in degrees).\n",
    "\\ : Roll right around Heading vector. Params : 'angle' (optional, in degrees).\n",
    "```\n",
    "\n",
    "* Changer la couleur des formes géométriques:\n",
    "\n",
    "```\n",
    "SetColor(param). Params : un chiffre compris entre 1 et 6\n",
    "A placer devant le module géométrique dans la règle d'interprétation\n",
    "```"
   ]
  },
  {
   "cell_type": "code",
   "execution_count": null,
   "metadata": {},
   "outputs": [],
   "source": [
    "%%lpy -a True -w 10\n",
    "\n",
    "module ?\n",
    "\n",
    "axiom: ?\n",
    "\n",
    "derivation length: ?\n",
    "       \n",
    "production:\n",
    "?--> ?\n",
    "\n",
    "interpretation:\n",
    "?--> ?\n"
   ]
  },
  {
   "cell_type": "markdown",
   "metadata": {},
   "source": [
    "**Exercice 3 :**\n",
    "\n",
    "1. Analyser la syntaxe permettant de gérer la ramification\n",
    "2. Où se situe l'apex?\n",
    "3. Creer des ramifications secondaires"
   ]
  },
  {
   "cell_type": "code",
   "execution_count": null,
   "metadata": {},
   "outputs": [],
   "source": [
    "%%lpy -a True -w 10\n",
    "\n",
    "module A\n",
    "module I\n",
    "\n",
    "axiom : A\n",
    "\n",
    "derivation length: 5\n",
    "\n",
    "production:\n",
    "A --> I [-I] [+I] A\n",
    "\n",
    "interpretation:\n",
    "A --> SetColor(3) @O(.2)\n",
    "I --> SetColor(2) F"
   ]
  },
  {
   "cell_type": "markdown",
   "metadata": {},
   "source": [
    "### Exemple de la luzerne"
   ]
  },
  {
   "cell_type": "markdown",
   "metadata": {},
   "source": [
    "Charger le Lsystem de luzerne ci-dessous"
   ]
  },
  {
   "cell_type": "code",
   "execution_count": null,
   "metadata": {},
   "outputs": [],
   "source": [
    "lsys = LsystemWidget('TD_lsystem_Luzerne.lpy', unit='cm',size_world=.4)"
   ]
  },
  {
   "cell_type": "markdown",
   "metadata": {},
   "source": [
    "#### Structure de la chaine Lsystem\n",
    "\n",
    "Observer la structure d'une chaine Lsystem complexe"
   ]
  },
  {
   "cell_type": "code",
   "execution_count": null,
   "metadata": {},
   "outputs": [],
   "source": [
    "lsys.get_lstring()[:20]"
   ]
  },
  {
   "cell_type": "markdown",
   "metadata": {},
   "source": [
    "#### Variation de l'architecture  numérique de la luzerne"
   ]
  },
  {
   "cell_type": "code",
   "execution_count": null,
   "metadata": {},
   "outputs": [],
   "source": [
    "lsys"
   ]
  },
  {
   "cell_type": "code",
   "execution_count": null,
   "metadata": {},
   "outputs": [],
   "source": [
    "lsys.editor"
   ]
  },
  {
   "cell_type": "markdown",
   "metadata": {},
   "source": [
    "### Exemple de la fétuque"
   ]
  },
  {
   "cell_type": "code",
   "execution_count": null,
   "metadata": {},
   "outputs": [],
   "source": [
    "lsys = LsystemWidget('TD_lsystem_Fetuque.lpy', unit='cm', size_world=.4)\n",
    "lsys"
   ]
  },
  {
   "cell_type": "markdown",
   "metadata": {},
   "source": [
    "## Applications: simulation du rayonnement intercepté dans une association"
   ]
  },
  {
   "cell_type": "markdown",
   "metadata": {},
   "source": [
    "### Introduction modèles de rayonnement"
   ]
  },
  {
   "cell_type": "markdown",
   "metadata": {},
   "source": [
    "![Some insights on light modelling](slides/modelesRT.png)"
   ]
  },
  {
   "cell_type": "markdown",
   "metadata": {},
   "source": [
    "### Effet de la direction du soleil sur le rayonnement intercepté"
   ]
  },
  {
   "cell_type": "markdown",
   "metadata": {},
   "source": [
    "Comment varie l'interception de la lumière avec la position du soleil?\n"
   ]
  },
  {
   "cell_type": "code",
   "execution_count": null,
   "metadata": {
    "scrolled": false
   },
   "outputs": [],
   "source": [
    "%matplotlib notebook\n",
    "interact(TD_libs.Light_model, lsys=fixed(lsys), hour=(6, 18, 1));"
   ]
  },
  {
   "cell_type": "markdown",
   "metadata": {},
   "source": [
    "### Partage du rayonnement intercepté dans une association"
   ]
  },
  {
   "cell_type": "markdown",
   "metadata": {},
   "source": [
    "Comment varie le partage du de la lumière avec la position des plantes?"
   ]
  },
  {
   "cell_type": "code",
   "execution_count": null,
   "metadata": {},
   "outputs": [],
   "source": [
    "%matplotlib notebook\n",
    "# # Makes Lsystem for association\n",
    "interact(TD_libs.Run_Asso, distance=(0,60,15));"
   ]
  },
  {
   "cell_type": "code",
   "execution_count": null,
   "metadata": {},
   "outputs": [],
   "source": []
  }
 ],
 "metadata": {
  "celltoolbar": "Raw Cell Format",
  "kernelspec": {
   "display_name": "Python 3 (ipykernel)",
   "language": "python",
   "name": "python3"
  },
  "language_info": {
   "codemirror_mode": {
    "name": "ipython",
    "version": 3
   },
   "file_extension": ".py",
   "mimetype": "text/x-python",
   "name": "python",
   "nbconvert_exporter": "python",
   "pygments_lexer": "ipython3",
   "version": "3.9.7"
  }
 },
 "nbformat": 4,
 "nbformat_minor": 4
}
