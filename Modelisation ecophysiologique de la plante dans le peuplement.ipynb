{
 "cells": [
  {
   "cell_type": "markdown",
   "metadata": {},
   "source": [
    "# Présentation du TD"
   ]
  },
  {
   "cell_type": "markdown",
   "metadata": {},
   "source": [
    "![Introduction to plant architecture](slides/contexte.png)"
   ]
  },
  {
   "cell_type": "markdown",
   "metadata": {},
   "source": [
    "![From real plants to virtual 3D plants](slides/Luzerne.png)"
   ]
  },
  {
   "cell_type": "markdown",
   "metadata": {},
   "source": [
    "# Description de l'Architecture des plantes"
   ]
  },
  {
   "cell_type": "markdown",
   "metadata": {},
   "source": [
    "![Architecture definition](slides/architecture.jpg)"
   ]
  },
  {
   "cell_type": "markdown",
   "metadata": {},
   "source": [
    "## Présentation des plantes en séance - Modularité de l'architecture"
   ]
  },
  {
   "cell_type": "markdown",
   "metadata": {},
   "source": [
    "* Décrivez les plantes qui sont devant vous.\n",
    "* Identifiez les entités suivantes :\n",
    "\n",
    "    | Entité| Luzerne #  | Fétuque #  |\n",
    "|:---|:---:|:---:|\n",
    "| Ramification / Talle     |  A  |  A  |\n",
    "| Insertion pétiole / Gaine|  S  |  E  |\n",
    "| Insertion foliole / Limbe|  T  |  F  |\n",
    "| Extrémité foliole / Limbe|  U  |  L  |\n",
    "\n",
    "\n",
    "* Identifiez des relations topologiques entre entités : \"+\" pour insertion et \">\" pour succession.\n",
    "* Observez vous des motifs qui se répètent?"
   ]
  },
  {
   "cell_type": "markdown",
   "metadata": {},
   "source": [
    "# Initiation aux modèles individu-centrés & architecturés (FSPM)"
   ]
  },
  {
   "cell_type": "markdown",
   "metadata": {},
   "source": [
    "## Chargement des librairies python"
   ]
  },
  {
   "cell_type": "code",
   "execution_count": 1,
   "metadata": {},
   "outputs": [],
   "source": [
    "from __future__ import print_function\n",
    "from ipywidgets import interact, interactive, fixed, interact_manual\n",
    "from openalea.mtg import MTG #librairie MTG\n",
    "from pgljupyter import LsystemWidget #librairie Lsystem\n",
    "from pathlib import Path\n",
    "\n",
    "import library as TD_libs"
   ]
  },
  {
   "cell_type": "markdown",
   "metadata": {},
   "source": [
    "## Encodage de l'architecture: formalisme MTG"
   ]
  },
  {
   "cell_type": "markdown",
   "metadata": {},
   "source": [
    "### Cas d'une légumineuse : La luzerne"
   ]
  },
  {
   "cell_type": "markdown",
   "metadata": {},
   "source": [
    "Sur le MTG suivant:\n",
    "* Donnez le nombre d'axes\n",
    "* Donnez le nombre de petioles sur l'axe 1 et 3"
   ]
  },
  {
   "cell_type": "code",
   "execution_count": 16,
   "metadata": {},
   "outputs": [
    {
     "name": "stdout",
     "output_type": "stream",
     "text": [
      "MTG : nb_vertices=57, nb_scales=4\n",
      "/P\t\t\t(id=1)\t\t\t\t\t\t\t\t\t\t\t\n",
      "^/A1\t\t\t(id=2)\t\t\t\t\t\t\t\t\t\t\t\n",
      "^/S1\t\t\t(id=3)\t\t\t\t\t\t\t\t\t\t\t\n",
      "\t+A2\t\t\t(id=4)\t\t\t\t\t\t\t\t\t\t\n",
      "\t^/S1\t\t\t(id=5)\t\t\t\t\t\t\t\t\t\t\n",
      "\t\t+T1\t\t\t(id=6)\t\t\t\t\t\t\t\t\t\n",
      "\t\t^<U1\t\t\t(id=7)\t\t\t\t\t\t\t\t\t\n",
      "\t^<S2\t\t\t(id=8)\t\t\t\t\t\t\t\t\t\t\n",
      "\t\t+T1\t\t\t(id=9)\t\t\t\t\t\t\t\t\t\n",
      "\t\t^<U1\t\t\t(id=10)\t\t\t\t\t\t\t\t\t\n",
      "\t^<S3\t\t\t(id=11)\t\t\t\t\t\t\t\t\t\t\n",
      "\t\t+T1\t\t\t(id=12)\t\t\t\t\t\t\t\t\t\n",
      "\t\t^<U1\t\t\t(id=13)\t\t\t\t\t\t\t\t\t\n",
      "\t^<S4\t\t\t(id=14)\t\t\t\t\t\t\t\t\t\t\n",
      "\t\t+T1\t\t\t(id=15)\t\t\t\t\t\t\t\t\t\n",
      "\t\t^<U1\t\t\t(id=16)\t\t\t\t\t\t\t\t\t\n",
      "\t+A3\t\t\t(id=17)\t\t\t\t\t\t\t\t\t\t\n",
      "\t^/S1\t\t\t(id=18)\t\t\t\t\t\t\t\t\t\t\n",
      "\t\t+T1\t\t\t(id=19)\t\t\t\t\t\t\t\t\t\n",
      "\t\t^<U1\t\t\t(id=20)\t\t\t\t\t\t\t\t\t\n",
      "\t^<S2\t\t\t(id=21)\t\t\t\t\t\t\t\t\t\t\n",
      "\t\t+T1\t\t\t(id=22)\t\t\t\t\t\t\t\t\t\n",
      "\t\t^<U1\t\t\t(id=23)\t\t\t\t\t\t\t\t\t\n",
      "\t^<S3\t\t\t(id=24)\t\t\t\t\t\t\t\t\t\t\n",
      "\t\t+T1\t\t\t(id=25)\t\t\t\t\t\t\t\t\t\n",
      "\t\t^<U1\t\t\t(id=26)\t\t\t\t\t\t\t\t\t\n",
      "^<S2\t\t\t(id=27)\t\t\t\t\t\t\t\t\t\t\t\n",
      "\t+T1\t\t\t(id=28)\t\t\t\t\t\t\t\t\t\t\n",
      "\t^<U1\t\t\t(id=29)\t\t\t\t\t\t\t\t\t\t\n",
      "^<S3\t\t\t(id=30)\t\t\t\t\t\t\t\t\t\t\t\n",
      "\t+T1\t\t\t(id=31)\t\t\t\t\t\t\t\t\t\t\n",
      "\t^<U1\t\t\t(id=32)\t\t\t\t\t\t\t\t\t\t\n",
      "^<S4\t\t\t(id=33)\t\t\t\t\t\t\t\t\t\t\t\n",
      "\t+T1\t\t\t(id=34)\t\t\t\t\t\t\t\t\t\t\n",
      "\t^<U1\t\t\t(id=35)\t\t\t\t\t\t\t\t\t\t\n",
      "^<S5\t\t\t(id=36)\t\t\t\t\t\t\t\t\t\t\t\n",
      "\t+T1\t\t\t(id=37)\t\t\t\t\t\t\t\t\t\t\n",
      "\t^<U1\t\t\t(id=38)\t\t\t\t\t\t\t\t\t\t\n",
      "^<S6\t\t\t(id=39)\t\t\t\t\t\t\t\t\t\t\t\n",
      "\t+T1\t\t\t(id=40)\t\t\t\t\t\t\t\t\t\t\n",
      "\t^<U1\t\t\t(id=41)\t\t\t\t\t\t\t\t\t\t\n",
      "^<S7\t\t\t(id=42)\t\t\t\t\t\t\t\t\t\t\t\n",
      "\t+T1\t\t\t(id=43)\t\t\t\t\t\t\t\t\t\t\n",
      "\t^<U1\t\t\t(id=44)\t\t\t\t\t\t\t\t\t\t\n",
      "^<S8\t\t\t(id=45)\t\t\t\t\t\t\t\t\t\t\t\n",
      "\t+T1\t\t\t(id=46)\t\t\t\t\t\t\t\t\t\t\n",
      "\t^<U1\t\t\t(id=47)\t\t\t\t\t\t\t\t\t\t\n",
      "^<S9\t\t\t(id=48)\t\t\t\t\t\t\t\t\t\t\t\n",
      "\t+T1\t\t\t(id=49)\t\t\t\t\t\t\t\t\t\t\n",
      "\t^<U1\t\t\t(id=50)\t\t\t\t\t\t\t\t\t\t\n",
      "^<S10\t\t\t(id=51)\t\t\t\t\t\t\t\t\t\t\t\n",
      "\t+T1\t\t\t(id=52)\t\t\t\t\t\t\t\t\t\t\n",
      "\t^<U1\t\t\t(id=53)\t\t\t\t\t\t\t\t\t\t\n",
      "^<S11\t\t\t(id=54)\t\t\t\t\t\t\t\t\t\t\t\n",
      "\t+T1\t\t\t(id=55)\t\t\t\t\t\t\t\t\t\t\n",
      "\t^<U1\t\t\t(id=56)\t\t\t\t\t\t\t\t\t\t\n"
     ]
    },
    {
     "data": {
      "text/plain": [
       "['edge_type',\n",
       " 'label',\n",
       " 'index',\n",
       " 'XX',\n",
       " 'YY',\n",
       " 'ZZ',\n",
       " 'AA',\n",
       " 'BB',\n",
       " 'CC',\n",
       " 'Flargeur',\n",
       " '_line']"
      ]
     },
     "execution_count": 16,
     "metadata": {},
     "output_type": "execute_result"
    }
   ],
   "source": [
    "g = MTG(Path('MTG/luzerne.mtg')) #Chargement du fichier MTG\n",
    "g.display()\n",
    "g.property_names()"
   ]
  },
  {
   "cell_type": "markdown",
   "metadata": {},
   "source": [
    "### Cas d'une graminée : La fétuque"
   ]
  },
  {
   "cell_type": "markdown",
   "metadata": {},
   "source": [
    "Sur le MTG suivant:\n",
    "* Donnez le nombre de talles (axe)\n",
    "* Donnez le nombre de phytomères sur l'axe 2"
   ]
  },
  {
   "cell_type": "code",
   "execution_count": 17,
   "metadata": {
    "scrolled": true
   },
   "outputs": [
    {
     "name": "stdout",
     "output_type": "stream",
     "text": [
      "MTG : nb_vertices=180, nb_scales=4\n",
      "/P1\t\t\t(id=1)\t\t\t\t\t\t\t\t\t\t\t\n",
      "^/A0\t\t\t(id=2)\t\t\t\t\t\t\t\t\t\t\t\n",
      "^/E1\t\t\t(id=3)\t\t\t\t\t\t\t\t\t\t\t\n",
      "\t+A1\t\t\t(id=4)\t\t\t\t\t\t\t\t\t\t\n",
      "\t^/E1\t\t\t(id=5)\t\t\t\t\t\t\t\t\t\t\n",
      "\t\t+F1\t\t\t(id=6)\t\t\t\t\t\t\t\t\t\n",
      "\t\t^<L1\t\t\t(id=7)\t\t\t\t\t\t\t\t\t\n",
      "\t\t^<L2\t\t\t(id=8)\t\t\t\t\t\t\t\t\t\n",
      "\t\t^<L3\t\t\t(id=9)\t\t\t\t\t\t\t\t\t\n",
      "\t\t^<L4\t\t\t(id=10)\t\t\t\t\t\t\t\t\t\n",
      "\t\t^<L5\t\t\t(id=11)\t\t\t\t\t\t\t\t\t\n",
      "\t+A2\t\t\t(id=12)\t\t\t\t\t\t\t\t\t\t\n",
      "\t^/E1\t\t\t(id=13)\t\t\t\t\t\t\t\t\t\t\n",
      "\t\t+F1\t\t\t(id=14)\t\t\t\t\t\t\t\t\t\n",
      "\t\t^<L1\t\t\t(id=15)\t\t\t\t\t\t\t\t\t\n",
      "\t\t^<L2\t\t\t(id=16)\t\t\t\t\t\t\t\t\t\n",
      "\t\t^<L3\t\t\t(id=17)\t\t\t\t\t\t\t\t\t\n",
      "\t\t^<L4\t\t\t(id=18)\t\t\t\t\t\t\t\t\t\n",
      "\t^<E2\t\t\t(id=19)\t\t\t\t\t\t\t\t\t\t\n",
      "\t\t+F1\t\t\t(id=20)\t\t\t\t\t\t\t\t\t\n",
      "\t\t^<L1\t\t\t(id=21)\t\t\t\t\t\t\t\t\t\n",
      "\t\t^<L2\t\t\t(id=22)\t\t\t\t\t\t\t\t\t\n",
      "\t\t^<L3\t\t\t(id=23)\t\t\t\t\t\t\t\t\t\n",
      "\t+A3\t\t\t(id=24)\t\t\t\t\t\t\t\t\t\t\n",
      "\t^/E1\t\t\t(id=25)\t\t\t\t\t\t\t\t\t\t\n",
      "\t\t+F1\t\t\t(id=26)\t\t\t\t\t\t\t\t\t\n",
      "\t\t^<L1\t\t\t(id=27)\t\t\t\t\t\t\t\t\t\n",
      "\t\t^<L2\t\t\t(id=28)\t\t\t\t\t\t\t\t\t\n",
      "\t\t^<L3\t\t\t(id=29)\t\t\t\t\t\t\t\t\t\n",
      "\t\t^<L4\t\t\t(id=30)\t\t\t\t\t\t\t\t\t\n",
      "\t^<E2\t\t\t(id=31)\t\t\t\t\t\t\t\t\t\t\n",
      "\t\t+F1\t\t\t(id=32)\t\t\t\t\t\t\t\t\t\n",
      "\t\t^<L1\t\t\t(id=33)\t\t\t\t\t\t\t\t\t\n",
      "\t\t^<L2\t\t\t(id=34)\t\t\t\t\t\t\t\t\t\n",
      "\t\t^<L3\t\t\t(id=35)\t\t\t\t\t\t\t\t\t\n",
      "\t\t^<L4\t\t\t(id=36)\t\t\t\t\t\t\t\t\t\n",
      "\t+A4\t\t\t(id=37)\t\t\t\t\t\t\t\t\t\t\n",
      "\t^/E1\t\t\t(id=38)\t\t\t\t\t\t\t\t\t\t\n",
      "\t\t+F1\t\t\t(id=39)\t\t\t\t\t\t\t\t\t\n",
      "\t\t^<L1\t\t\t(id=40)\t\t\t\t\t\t\t\t\t\n",
      "\t\t^<L2\t\t\t(id=41)\t\t\t\t\t\t\t\t\t\n",
      "\t\t^<L3\t\t\t(id=42)\t\t\t\t\t\t\t\t\t\n",
      "\t^<E2\t\t\t(id=43)\t\t\t\t\t\t\t\t\t\t\n",
      "\t\t+F1\t\t\t(id=44)\t\t\t\t\t\t\t\t\t\n",
      "\t\t^<L1\t\t\t(id=45)\t\t\t\t\t\t\t\t\t\n",
      "\t\t^<L2\t\t\t(id=46)\t\t\t\t\t\t\t\t\t\n",
      "\t\t^<L3\t\t\t(id=47)\t\t\t\t\t\t\t\t\t\n",
      "\t\t^<L4\t\t\t(id=48)\t\t\t\t\t\t\t\t\t\n",
      "\t\t^<L5\t\t\t(id=49)\t\t\t\t\t\t\t\t\t\n",
      "\t^<E3\t\t\t(id=50)\t\t\t\t\t\t\t\t\t\t\n",
      "\t\t+F1\t\t\t(id=51)\t\t\t\t\t\t\t\t\t\n",
      "\t\t^<L1\t\t\t(id=52)\t\t\t\t\t\t\t\t\t\n",
      "\t\t^<L2\t\t\t(id=53)\t\t\t\t\t\t\t\t\t\n",
      "\t\t^<L3\t\t\t(id=54)\t\t\t\t\t\t\t\t\t\n",
      "\t^<E4\t\t\t(id=55)\t\t\t\t\t\t\t\t\t\t\n",
      "\t\t+F1\t\t\t(id=56)\t\t\t\t\t\t\t\t\t\n",
      "\t\t^<L1\t\t\t(id=57)\t\t\t\t\t\t\t\t\t\n",
      "\t\t^<L2\t\t\t(id=58)\t\t\t\t\t\t\t\t\t\n",
      "\t+A5\t\t\t(id=59)\t\t\t\t\t\t\t\t\t\t\n",
      "\t^/E1\t\t\t(id=60)\t\t\t\t\t\t\t\t\t\t\n",
      "\t\t+F1\t\t\t(id=61)\t\t\t\t\t\t\t\t\t\n",
      "\t\t^<L1\t\t\t(id=62)\t\t\t\t\t\t\t\t\t\n",
      "\t\t^<L2\t\t\t(id=63)\t\t\t\t\t\t\t\t\t\n",
      "\t\t^<L3\t\t\t(id=64)\t\t\t\t\t\t\t\t\t\n",
      "\t\t^<L4\t\t\t(id=65)\t\t\t\t\t\t\t\t\t\n",
      "\t^<E2\t\t\t(id=66)\t\t\t\t\t\t\t\t\t\t\n",
      "\t\t+F1\t\t\t(id=67)\t\t\t\t\t\t\t\t\t\n",
      "\t\t^<L1\t\t\t(id=68)\t\t\t\t\t\t\t\t\t\n",
      "\t\t^<L2\t\t\t(id=69)\t\t\t\t\t\t\t\t\t\n",
      "\t\t^<L3\t\t\t(id=70)\t\t\t\t\t\t\t\t\t\n",
      "\t\t^<L4\t\t\t(id=71)\t\t\t\t\t\t\t\t\t\n",
      "\t^<E3\t\t\t(id=72)\t\t\t\t\t\t\t\t\t\t\n",
      "\t\t+F1\t\t\t(id=73)\t\t\t\t\t\t\t\t\t\n",
      "\t\t^<L1\t\t\t(id=74)\t\t\t\t\t\t\t\t\t\n",
      "\t\t^<L2\t\t\t(id=75)\t\t\t\t\t\t\t\t\t\n",
      "\t\t^<L3\t\t\t(id=76)\t\t\t\t\t\t\t\t\t\n",
      "\t\t^<L4\t\t\t(id=77)\t\t\t\t\t\t\t\t\t\n",
      "\t+A6\t\t\t(id=78)\t\t\t\t\t\t\t\t\t\t\n",
      "\t^/E1\t\t\t(id=79)\t\t\t\t\t\t\t\t\t\t\n",
      "\t\t+F1\t\t\t(id=80)\t\t\t\t\t\t\t\t\t\n",
      "\t\t^<L1\t\t\t(id=81)\t\t\t\t\t\t\t\t\t\n",
      "\t\t^<L2\t\t\t(id=82)\t\t\t\t\t\t\t\t\t\n",
      "\t\t^<L3\t\t\t(id=83)\t\t\t\t\t\t\t\t\t\n",
      "\t\t^<L4\t\t\t(id=84)\t\t\t\t\t\t\t\t\t\n",
      "\t^<E2\t\t\t(id=85)\t\t\t\t\t\t\t\t\t\t\n",
      "\t\t+F1\t\t\t(id=86)\t\t\t\t\t\t\t\t\t\n",
      "\t\t^<L1\t\t\t(id=87)\t\t\t\t\t\t\t\t\t\n",
      "\t\t^<L2\t\t\t(id=88)\t\t\t\t\t\t\t\t\t\n",
      "\t\t^<L3\t\t\t(id=89)\t\t\t\t\t\t\t\t\t\n",
      "\t\t^<L4\t\t\t(id=90)\t\t\t\t\t\t\t\t\t\n",
      "\t^<E3\t\t\t(id=91)\t\t\t\t\t\t\t\t\t\t\n",
      "\t\t+F1\t\t\t(id=92)\t\t\t\t\t\t\t\t\t\n",
      "\t\t^<L1\t\t\t(id=93)\t\t\t\t\t\t\t\t\t\n",
      "\t\t^<L2\t\t\t(id=94)\t\t\t\t\t\t\t\t\t\n",
      "\t+A7\t\t\t(id=95)\t\t\t\t\t\t\t\t\t\t\n",
      "\t^/E1\t\t\t(id=96)\t\t\t\t\t\t\t\t\t\t\n",
      "\t\t+F1\t\t\t(id=97)\t\t\t\t\t\t\t\t\t\n",
      "\t\t^<L1\t\t\t(id=98)\t\t\t\t\t\t\t\t\t\n",
      "\t\t^<L2\t\t\t(id=99)\t\t\t\t\t\t\t\t\t\n",
      "\t\t^<L3\t\t\t(id=100)\t\t\t\t\t\t\t\t\t\n",
      "\t\t^<L4\t\t\t(id=101)\t\t\t\t\t\t\t\t\t\n",
      "\t\t^<L5\t\t\t(id=102)\t\t\t\t\t\t\t\t\t\n",
      "\t^<E2\t\t\t(id=103)\t\t\t\t\t\t\t\t\t\t\n",
      "\t\t+F1\t\t\t(id=104)\t\t\t\t\t\t\t\t\t\n",
      "\t\t^<L1\t\t\t(id=105)\t\t\t\t\t\t\t\t\t\n",
      "\t\t^<L2\t\t\t(id=106)\t\t\t\t\t\t\t\t\t\n",
      "\t\t^<L3\t\t\t(id=107)\t\t\t\t\t\t\t\t\t\n",
      "\t+A8\t\t\t(id=108)\t\t\t\t\t\t\t\t\t\t\n",
      "\t^/E1\t\t\t(id=109)\t\t\t\t\t\t\t\t\t\t\n",
      "\t\t+F1\t\t\t(id=110)\t\t\t\t\t\t\t\t\t\n",
      "\t\t^<L1\t\t\t(id=111)\t\t\t\t\t\t\t\t\t\n",
      "\t\t^<L2\t\t\t(id=112)\t\t\t\t\t\t\t\t\t\n",
      "\t\t^<L3\t\t\t(id=113)\t\t\t\t\t\t\t\t\t\n",
      "\t^<E2\t\t\t(id=114)\t\t\t\t\t\t\t\t\t\t\n",
      "\t\t+F1\t\t\t(id=115)\t\t\t\t\t\t\t\t\t\n",
      "\t\t^<L1\t\t\t(id=116)\t\t\t\t\t\t\t\t\t\n",
      "\t\t^<L2\t\t\t(id=117)\t\t\t\t\t\t\t\t\t\n",
      "\t\t^<L3\t\t\t(id=118)\t\t\t\t\t\t\t\t\t\n",
      "\t\t^<L4\t\t\t(id=119)\t\t\t\t\t\t\t\t\t\n",
      "\t^<E3\t\t\t(id=120)\t\t\t\t\t\t\t\t\t\t\n",
      "\t\t+F1\t\t\t(id=121)\t\t\t\t\t\t\t\t\t\n",
      "\t\t^<L1\t\t\t(id=122)\t\t\t\t\t\t\t\t\t\n",
      "\t\t^<L2\t\t\t(id=123)\t\t\t\t\t\t\t\t\t\n",
      "\t+A9\t\t\t(id=124)\t\t\t\t\t\t\t\t\t\t\n",
      "\t^/E1\t\t\t(id=125)\t\t\t\t\t\t\t\t\t\t\n",
      "\t\t+F1\t\t\t(id=126)\t\t\t\t\t\t\t\t\t\n",
      "\t\t^<L1\t\t\t(id=127)\t\t\t\t\t\t\t\t\t\n",
      "\t\t^<L2\t\t\t(id=128)\t\t\t\t\t\t\t\t\t\n",
      "\t\t^<L3\t\t\t(id=129)\t\t\t\t\t\t\t\t\t\n",
      "\t^<E2\t\t\t(id=130)\t\t\t\t\t\t\t\t\t\t\n",
      "\t\t+F1\t\t\t(id=131)\t\t\t\t\t\t\t\t\t\n",
      "\t\t^<L1\t\t\t(id=132)\t\t\t\t\t\t\t\t\t\n",
      "\t\t^<L2\t\t\t(id=133)\t\t\t\t\t\t\t\t\t\n",
      "\t\t^<L3\t\t\t(id=134)\t\t\t\t\t\t\t\t\t\n",
      "\t^<E3\t\t\t(id=135)\t\t\t\t\t\t\t\t\t\t\n",
      "\t\t+F1\t\t\t(id=136)\t\t\t\t\t\t\t\t\t\n",
      "\t\t^<L1\t\t\t(id=137)\t\t\t\t\t\t\t\t\t\n",
      "\t\t^<L2\t\t\t(id=138)\t\t\t\t\t\t\t\t\t\n",
      "\t\t^<L3\t\t\t(id=139)\t\t\t\t\t\t\t\t\t\n",
      "\t+A10\t\t\t(id=140)\t\t\t\t\t\t\t\t\t\t\n",
      "\t^/E1\t\t\t(id=141)\t\t\t\t\t\t\t\t\t\t\n",
      "\t\t+F1\t\t\t(id=142)\t\t\t\t\t\t\t\t\t\n",
      "\t\t^<L1\t\t\t(id=143)\t\t\t\t\t\t\t\t\t\n",
      "\t\t^<L2\t\t\t(id=144)\t\t\t\t\t\t\t\t\t\n",
      "\t\t^<L3\t\t\t(id=145)\t\t\t\t\t\t\t\t\t\n",
      "\t^<E2\t\t\t(id=146)\t\t\t\t\t\t\t\t\t\t\n",
      "\t\t+F1\t\t\t(id=147)\t\t\t\t\t\t\t\t\t\n",
      "\t\t^<L1\t\t\t(id=148)\t\t\t\t\t\t\t\t\t\n",
      "\t\t^<L2\t\t\t(id=149)\t\t\t\t\t\t\t\t\t\n",
      "\t\t^<L3\t\t\t(id=150)\t\t\t\t\t\t\t\t\t\n",
      "\t^<E3\t\t\t(id=151)\t\t\t\t\t\t\t\t\t\t\n",
      "\t\t+F1\t\t\t(id=152)\t\t\t\t\t\t\t\t\t\n",
      "\t\t^<L1\t\t\t(id=153)\t\t\t\t\t\t\t\t\t\n",
      "\t\t^<L2\t\t\t(id=154)\t\t\t\t\t\t\t\t\t\n",
      "\t\t^<L3\t\t\t(id=155)\t\t\t\t\t\t\t\t\t\n",
      "\t\t^<L4\t\t\t(id=156)\t\t\t\t\t\t\t\t\t\n",
      "\t\t^<L5\t\t\t(id=157)\t\t\t\t\t\t\t\t\t\n",
      "\t^<E4\t\t\t(id=158)\t\t\t\t\t\t\t\t\t\t\n",
      "\t\t+F1\t\t\t(id=159)\t\t\t\t\t\t\t\t\t\n",
      "\t\t^<L1\t\t\t(id=160)\t\t\t\t\t\t\t\t\t\n",
      "\t\t^<L2\t\t\t(id=161)\t\t\t\t\t\t\t\t\t\n",
      "\t\t^<L3\t\t\t(id=162)\t\t\t\t\t\t\t\t\t\n",
      "\t+A11\t\t\t(id=163)\t\t\t\t\t\t\t\t\t\t\n",
      "\t^/E1\t\t\t(id=164)\t\t\t\t\t\t\t\t\t\t\n",
      "\t\t+F1\t\t\t(id=165)\t\t\t\t\t\t\t\t\t\n",
      "\t\t^<L1\t\t\t(id=166)\t\t\t\t\t\t\t\t\t\n",
      "\t\t^<L2\t\t\t(id=167)\t\t\t\t\t\t\t\t\t\n",
      "\t\t^<L3\t\t\t(id=168)\t\t\t\t\t\t\t\t\t\n",
      "\t\t^<L4\t\t\t(id=169)\t\t\t\t\t\t\t\t\t\n",
      "\t^<E2\t\t\t(id=170)\t\t\t\t\t\t\t\t\t\t\n",
      "\t\t+F1\t\t\t(id=171)\t\t\t\t\t\t\t\t\t\n",
      "\t\t^<L1\t\t\t(id=172)\t\t\t\t\t\t\t\t\t\n",
      "\t\t^<L2\t\t\t(id=173)\t\t\t\t\t\t\t\t\t\n",
      "\t\t^<L3\t\t\t(id=174)\t\t\t\t\t\t\t\t\t\n",
      "\t^<E3\t\t\t(id=175)\t\t\t\t\t\t\t\t\t\t\n",
      "\t\t+F1\t\t\t(id=176)\t\t\t\t\t\t\t\t\t\n",
      "\t\t^<L1\t\t\t(id=177)\t\t\t\t\t\t\t\t\t\n",
      "\t\t^<L2\t\t\t(id=178)\t\t\t\t\t\t\t\t\t\n",
      "\t\t^<L3\t\t\t(id=179)\t\t\t\t\t\t\t\t\t\n"
     ]
    }
   ],
   "source": [
    "g = MTG(Path('MTG/Fet-LD-F2.mtg'))\n",
    "g.display()"
   ]
  },
  {
   "cell_type": "markdown",
   "metadata": {},
   "source": [
    "## Reconstruction numérique 3D des plantes via Lsystems"
   ]
  },
  {
   "cell_type": "markdown",
   "metadata": {},
   "source": [
    "### Rappel des principes du Lsystem"
   ]
  },
  {
   "cell_type": "markdown",
   "metadata": {},
   "source": [
    "### Exercices sur les Lsystems"
   ]
  },
  {
   "cell_type": "markdown",
   "metadata": {},
   "source": [
    "**Exercice 1 : (utilisation de Lpy)**\n",
    "\n",
    "Les six premières itérations d’un L-system déterministe insensible au contexte produisent les chaînes de caractères suivantes :\n",
    "\n",
    "L<p/>\n",
    "CL<p/>\n",
    "LCL<p/>\n",
    "CLLCL<p/>\n",
    "LCLCLLCL<p/>\n",
    "CLLCLLCLCLLCL<p/>\n",
    "\n",
    "Quels sont les règles de productions et l’axiome de ce L-system ?\n"
   ]
  },
  {
   "cell_type": "code",
   "execution_count": 18,
   "metadata": {},
   "outputs": [
    {
     "ename": "SyntaxError",
     "evalue": "invalid syntax (<string>, line 9)",
     "output_type": "error",
     "traceback": [
      "Traceback \u001b[1;36m(most recent call last)\u001b[0m:\n",
      "  File \u001b[0;32m\"C:\\Users\\rbarillot\\AppData\\Local\\Continuum\\anaconda2\\envs\\TD_M2\\lib\\site-packages\\IPython\\core\\interactiveshell.py\"\u001b[0m, line \u001b[0;32m3441\u001b[0m, in \u001b[0;35mrun_code\u001b[0m\n    exec(code_obj, self.user_global_ns, self.user_ns)\n",
      "  File \u001b[0;32m\"C:\\Users\\rbarillot\\AppData\\Local\\Temp/ipykernel_56352/1072594862.py\"\u001b[0m, line \u001b[0;32m1\u001b[0m, in \u001b[0;35m<module>\u001b[0m\n    get_ipython().run_cell_magic('lpy', '-a True', '\\n\\ndef StartEach(lstring):\\n    print (lstring)\\n\\n\\naxiom: ?\\n\\nderivation length: ?\\n\\nproduction:\\n?-->?\\n\\n\\n')\n",
      "  File \u001b[0;32m\"C:\\Users\\rbarillot\\AppData\\Local\\Continuum\\anaconda2\\envs\\TD_M2\\lib\\site-packages\\IPython\\core\\interactiveshell.py\"\u001b[0m, line \u001b[0;32m2403\u001b[0m, in \u001b[0;35mrun_cell_magic\u001b[0m\n    result = fn(*args, **kwargs)\n",
      "  File \u001b[0;32m\"C:\\Users\\rbarillot\\AppData\\Local\\Continuum\\anaconda2\\envs\\TD_M2\\lib\\site-packages\\decorator.py\"\u001b[0m, line \u001b[0;32m232\u001b[0m, in \u001b[0;35mfun\u001b[0m\n    return caller(func, *(extras + args), **kw)\n",
      "  File \u001b[0;32m\"C:\\Users\\rbarillot\\AppData\\Local\\Continuum\\anaconda2\\envs\\TD_M2\\lib\\site-packages\\IPython\\core\\magic.py\"\u001b[0m, line \u001b[0;32m187\u001b[0m, in \u001b[0;35m<lambda>\u001b[0m\n    call = lambda f, *a, **k: f(*a, **k)\n",
      "  File \u001b[0;32m\"C:\\Users\\rbarillot\\AppData\\Local\\Continuum\\anaconda2\\envs\\TD_M2\\lib\\site-packages\\pgljupyter\\magics.py\"\u001b[0m, line \u001b[0;32m45\u001b[0m, in \u001b[0;35mlpy\u001b[0m\n    lsw = LsystemWidget(None, code=code, size_display=size_display, size_world=world, unit=unit, animate=animate, context=context, lp=lp)\n",
      "  File \u001b[0;32m\"C:\\Users\\rbarillot\\AppData\\Local\\Continuum\\anaconda2\\envs\\TD_M2\\lib\\site-packages\\pgljupyter\\widgets.py\"\u001b[0m, line \u001b[0;32m234\u001b[0m, in \u001b[0;35m__init__\u001b[0m\n    self.__initialize_lsystem()\n",
      "  File \u001b[0;32m\"C:\\Users\\rbarillot\\AppData\\Local\\Continuum\\anaconda2\\envs\\TD_M2\\lib\\site-packages\\pgljupyter\\widgets.py\"\u001b[0m, line \u001b[0;32m311\u001b[0m, in \u001b[0;35m__initialize_lsystem\u001b[0m\n    self.__lsystem.set(''.join([\n",
      "  File \u001b[0;32m\"c:\\users\\rbarillot\\appdata\\local\\continuum\\anaconda2\\envs\\td_m2\\lib\\site-packages\\openalea.plantgl-3.10.1-py3.9.egg\\openalea\\plantgl\\scenegraph\\__init__.py\"\u001b[0m, line \u001b[0;32m23\u001b[0m, in \u001b[0;35mnewFunc\u001b[0m\n    return func(*args, **kwargs)\n",
      "\u001b[1;36m  File \u001b[1;32m\"c:\\users\\rbarillot\\appdata\\local\\continuum\\anaconda2\\envs\\td_m2\\lib\\site-packages\\openalea.lpy-3.8.2-py3.9.egg\\openalea\\lpy\\__init__.py\"\u001b[1;36m, line \u001b[1;32m168\u001b[1;36m, in \u001b[1;35mlsystem_set\u001b[1;36m\u001b[0m\n\u001b[1;33m    return self.setCode(code,parameters,debug)\u001b[0m\n",
      "\u001b[1;36m  File \u001b[1;32m\"<string>\"\u001b[1;36m, line \u001b[1;32m9\u001b[0m\n\u001b[1;33m    __derivation_length__ =  ?\u001b[0m\n\u001b[1;37m                             ^\u001b[0m\n\u001b[1;31mSyntaxError\u001b[0m\u001b[1;31m:\u001b[0m invalid syntax\n"
     ]
    }
   ],
   "source": [
    "%%lpy -a True   \n",
    "\n",
    "\n",
    "def StartEach(lstring):\n",
    "    print (lstring)\n",
    "\n",
    "\n",
    "axiom: ?\n",
    "\n",
    "derivation length: ?\n",
    "\n",
    "production:\n",
    "?-->?\n"
   ]
  },
  {
   "cell_type": "markdown",
   "metadata": {},
   "source": [
    "**Exercice 2 :**\n",
    "\n",
    "Représenter la production d'entrenoeuds par un apex\n",
    "\n",
    "1. Définir le nom du module de l'apex et de l'entrenoeud\n",
    "2. Définir l'axiome comme un apex seul\n",
    "3. Ecrire la règle de production d'un entrenoeud à partir de l'apex\n",
    "4. Appliquer une règle d'interprétation pour représenter les entrenoeuds avec des cylindres et les apex avec des spheres\n",
    "5. Produire 5 entrenoeuds au niveau de l'apex\n",
    "6. Tester des régles d'orientation des organes et de dimensions d'organes.\n",
    "\n",
    "\n",
    "Tips:\n",
    "* la règle de production d'un module s'écrit:\n",
    "```\n",
    "module_name --> module_name1 module_name2 [...] module_namei\n",
    "```\n",
    "* la règle d'interprétation d'un module s'écrit:\n",
    "```\n",
    "module_name --> regle_orientation(param) forme_geometrique1(param)\n",
    "```\n",
    "* Quelques exemples de formes géométriques:\n",
    "```\n",
    "F : cylindre généralisé. Params: 'length , topradius'.\n",
    "@O : sphère. Params: 'radius'.\n",
    "@o : cercle. Params: 'radius'.\n",
    "@b : rectangle. Params : 'length','topradius'.\n",
    "```\n",
    "* Quelques exemples de règles d'orientation:\n",
    "\n",
    "```\n",
    "+ : Turn left around Up vector. Params : 'angle' (optional, in degrees).\n",
    "- : Turn right around Up vector. Params : 'angle' (optional, in degrees).\n",
    "^ : Pitch up around Left vector. Params : 'angle' (optional, in degrees).\n",
    "& : Pitch down around Left vector. Params : 'angle' (optional, in degrees).\n",
    "/ : Roll left around Heading vector. Params : 'angle' (optional, in degrees).\n",
    "\\ : Roll right around Heading vector. Params : 'angle' (optional, in degrees).\n",
    "```"
   ]
  },
  {
   "cell_type": "code",
   "execution_count": null,
   "metadata": {},
   "outputs": [],
   "source": [
    "%%lpy -a True -w 10\n",
    "\n",
    "axiom: ?\n",
    "\n",
    "derivation length: ?\n",
    "       \n",
    "production:\n",
    "?--> ?\n",
    "\n",
    "interpretation:\n",
    "?--> ?\n"
   ]
  },
  {
   "cell_type": "markdown",
   "metadata": {},
   "source": [
    "**Exercice 3 :**\n",
    "\n",
    "1. Analyser la syntaxe permettant de gérer la ramification\n",
    "2. Où se situe l'apex?\n",
    "3. Creer des ramifications secondaires"
   ]
  },
  {
   "cell_type": "code",
   "execution_count": null,
   "metadata": {},
   "outputs": [],
   "source": [
    "%%lpy -a True -w 10\n",
    "\n",
    "axiom : I[-I][+I]A\n",
    "\n",
    "derivation length: 3\n",
    "\n",
    "production:\n",
    "A --> I [-I] [+I] A\n",
    "\n",
    "interpretation:\n",
    "A --> SetColor(3) @O \n",
    "I --> SetColor(2) F"
   ]
  },
  {
   "cell_type": "markdown",
   "metadata": {},
   "source": [
    "### Exemple de la luzerne"
   ]
  },
  {
   "cell_type": "markdown",
   "metadata": {},
   "source": [
    "Charger le Lsystem de luzerne ci-dessous"
   ]
  },
  {
   "cell_type": "code",
   "execution_count": null,
   "metadata": {},
   "outputs": [],
   "source": [
    "lsys = LsystemWidget('TD_lsystem_Luzerne.lpy', unit='cm',size_world=.4)"
   ]
  },
  {
   "cell_type": "markdown",
   "metadata": {},
   "source": [
    "#### Structure de la chaine Lsystem\n",
    "\n",
    "Observer la structure d'une chaine Lsystem complexe"
   ]
  },
  {
   "cell_type": "code",
   "execution_count": null,
   "metadata": {},
   "outputs": [],
   "source": [
    "lsys.get_lstring()[:20]"
   ]
  },
  {
   "cell_type": "markdown",
   "metadata": {},
   "source": [
    "#### Variation de l'architecture  numérique de la luzerne"
   ]
  },
  {
   "cell_type": "code",
   "execution_count": null,
   "metadata": {},
   "outputs": [],
   "source": [
    "lsys"
   ]
  },
  {
   "cell_type": "code",
   "execution_count": null,
   "metadata": {},
   "outputs": [],
   "source": [
    "lsys.editor"
   ]
  },
  {
   "cell_type": "markdown",
   "metadata": {},
   "source": [
    "### Exemple de la fétuque"
   ]
  },
  {
   "cell_type": "code",
   "execution_count": 2,
   "metadata": {},
   "outputs": [
    {
     "data": {
      "application/vnd.jupyter.widget-view+json": {
       "model_id": "e6d9ee7476bd4ef58e32494d66976563",
       "version_major": 2,
       "version_minor": 0
      },
      "text/plain": [
       "LsystemWidget(derivationLength=3, scene={'data': b'x\\xda\\xbd[\\tT\\x14\\xd7\\xd2\\x1e\\x17\\xa2\\x8ek\\x12\\\\\\x89\\x80\\xc…"
      ]
     },
     "metadata": {},
     "output_type": "display_data"
    }
   ],
   "source": [
    "lsys = LsystemWidget('TD_lsystem_Fetuque.lpy', unit='cm', size_world=.4)\n",
    "lsys"
   ]
  },
  {
   "cell_type": "markdown",
   "metadata": {},
   "source": [
    "## Applications: simulation du rayonnement intercepté dans une association"
   ]
  },
  {
   "cell_type": "markdown",
   "metadata": {},
   "source": [
    "### Introduction modèles de rayonnement"
   ]
  },
  {
   "cell_type": "markdown",
   "metadata": {},
   "source": [
    "![Some insights on light modelling](slides/modelesRT.png)"
   ]
  },
  {
   "cell_type": "markdown",
   "metadata": {},
   "source": [
    "### Effet de la direction du soleil sur le rayonnement intercepté"
   ]
  },
  {
   "cell_type": "markdown",
   "metadata": {},
   "source": [
    "Comment varie l'interception du rayonnement avec la position du soleil?\n"
   ]
  },
  {
   "cell_type": "code",
   "execution_count": 4,
   "metadata": {
    "scrolled": false
   },
   "outputs": [
    {
     "ename": "NameError",
     "evalue": "name 'lsys' is not defined",
     "output_type": "error",
     "traceback": [
      "\u001b[1;31m---------------------------------------------------------------------------\u001b[0m",
      "\u001b[1;31mNameError\u001b[0m                                 Traceback (most recent call last)",
      "\u001b[1;32m~\\AppData\\Local\\Temp/ipykernel_42840/4129481081.py\u001b[0m in \u001b[0;36m<module>\u001b[1;34m\u001b[0m\n\u001b[0;32m      1\u001b[0m \u001b[0mget_ipython\u001b[0m\u001b[1;33m(\u001b[0m\u001b[1;33m)\u001b[0m\u001b[1;33m.\u001b[0m\u001b[0mrun_line_magic\u001b[0m\u001b[1;33m(\u001b[0m\u001b[1;34m'matplotlib'\u001b[0m\u001b[1;33m,\u001b[0m \u001b[1;34m'notebook'\u001b[0m\u001b[1;33m)\u001b[0m\u001b[1;33m\u001b[0m\u001b[1;33m\u001b[0m\u001b[0m\n\u001b[1;32m----> 2\u001b[1;33m \u001b[0minteract\u001b[0m\u001b[1;33m(\u001b[0m\u001b[0mTD_libs\u001b[0m\u001b[1;33m.\u001b[0m\u001b[0mLight_model\u001b[0m\u001b[1;33m,\u001b[0m \u001b[0mlsys\u001b[0m\u001b[1;33m=\u001b[0m\u001b[0mfixed\u001b[0m\u001b[1;33m(\u001b[0m\u001b[0mlsys\u001b[0m\u001b[1;33m)\u001b[0m\u001b[1;33m,\u001b[0m \u001b[0mhour\u001b[0m\u001b[1;33m=\u001b[0m\u001b[1;33m(\u001b[0m\u001b[1;36m5\u001b[0m\u001b[1;33m,\u001b[0m \u001b[1;36m19\u001b[0m\u001b[1;33m,\u001b[0m \u001b[1;36m1\u001b[0m\u001b[1;33m)\u001b[0m\u001b[1;33m)\u001b[0m\u001b[1;33m;\u001b[0m\u001b[1;33m\u001b[0m\u001b[1;33m\u001b[0m\u001b[0m\n\u001b[0m",
      "\u001b[1;31mNameError\u001b[0m: name 'lsys' is not defined"
     ]
    }
   ],
   "source": [
    "%matplotlib notebook\n",
    "interact(TD_libs.Light_model, lsys=fixed(lsys), hour=(5, 19, 1));"
   ]
  },
  {
   "cell_type": "markdown",
   "metadata": {},
   "source": [
    "### Partage du rayonnement intercepté dans une association"
   ]
  },
  {
   "cell_type": "code",
   "execution_count": null,
   "metadata": {},
   "outputs": [],
   "source": [
    "Comment varie le partage du de la lumière avec la position des pnt?"
   ]
  },
  {
   "cell_type": "code",
   "execution_count": 5,
   "metadata": {},
   "outputs": [
    {
     "data": {
      "application/vnd.jupyter.widget-view+json": {
       "model_id": "6229b020133d4e029d00cdd23feb2694",
       "version_major": 2,
       "version_minor": 0
      },
      "text/plain": [
       "interactive(children=(IntSlider(value=0, description='distance', max=60, step=15), FloatSlider(value=1.0, desc…"
      ]
     },
     "metadata": {},
     "output_type": "display_data"
    }
   ],
   "source": [
    "%matplotlib notebook\n",
    "# # Makes Lsystem for association\n",
    "interact(TD_libs.Run_Asso, distance=(0,60,15));"
   ]
  }
 ],
 "metadata": {
  "celltoolbar": "Raw Cell Format",
  "kernelspec": {
   "display_name": "Python 3 (ipykernel)",
   "language": "python",
   "name": "python3"
  },
  "language_info": {
   "codemirror_mode": {
    "name": "ipython",
    "version": 3
   },
   "file_extension": ".py",
   "mimetype": "text/x-python",
   "name": "python",
   "nbconvert_exporter": "python",
   "pygments_lexer": "ipython3",
   "version": "3.9.7"
  }
 },
 "nbformat": 4,
 "nbformat_minor": 4
}
